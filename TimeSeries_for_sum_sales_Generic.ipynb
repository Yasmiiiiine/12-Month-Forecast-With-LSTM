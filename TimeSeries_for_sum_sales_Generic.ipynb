{
  "nbformat": 4,
  "nbformat_minor": 0,
  "metadata": {
    "colab": {
      "name": "TimeSeries_for_sum_sales-Generic.ipynb",
      "provenance": [],
      "authorship_tag": "ABX9TyPLTBYlwQAPqNDjDqIfC0zK",
      "include_colab_link": true
    },
    "kernelspec": {
      "name": "python3",
      "display_name": "Python 3"
    },
    "accelerator": "GPU"
  },
  "cells": [
    {
      "cell_type": "markdown",
      "metadata": {
        "id": "view-in-github",
        "colab_type": "text"
      },
      "source": [
        "<a href=\"https://colab.research.google.com/github/Yasmiiiiine/12-Month-Forecast-With-LSTM/blob/master/TimeSeries_for_sum_sales_Generic.ipynb\" target=\"_parent\"><img src=\"https://colab.research.google.com/assets/colab-badge.svg\" alt=\"Open In Colab\"/></a>"
      ]
    },
    {
      "cell_type": "markdown",
      "metadata": {
        "id": "z4dBpmIuwuZv",
        "colab_type": "text"
      },
      "source": [
        "# **Install**"
      ]
    },
    {
      "cell_type": "code",
      "metadata": {
        "id": "N7mtDRbnykCT",
        "colab_type": "code",
        "colab": {
          "base_uri": "https://localhost:8080/",
          "height": 190
        },
        "outputId": "d6840b9c-eb05-409a-c6d4-3d718ca4a2b3"
      },
      "source": [
        "!pip install chart_studio"
      ],
      "execution_count": 11,
      "outputs": [
        {
          "output_type": "stream",
          "text": [
            "Requirement already satisfied: chart_studio in /usr/local/lib/python3.6/dist-packages (1.1.0)\n",
            "Requirement already satisfied: plotly in /usr/local/lib/python3.6/dist-packages (from chart_studio) (4.4.1)\n",
            "Requirement already satisfied: requests in /usr/local/lib/python3.6/dist-packages (from chart_studio) (2.23.0)\n",
            "Requirement already satisfied: six in /usr/local/lib/python3.6/dist-packages (from chart_studio) (1.12.0)\n",
            "Requirement already satisfied: retrying>=1.3.3 in /usr/local/lib/python3.6/dist-packages (from chart_studio) (1.3.3)\n",
            "Requirement already satisfied: certifi>=2017.4.17 in /usr/local/lib/python3.6/dist-packages (from requests->chart_studio) (2020.4.5.1)\n",
            "Requirement already satisfied: idna<3,>=2.5 in /usr/local/lib/python3.6/dist-packages (from requests->chart_studio) (2.9)\n",
            "Requirement already satisfied: chardet<4,>=3.0.2 in /usr/local/lib/python3.6/dist-packages (from requests->chart_studio) (3.0.4)\n",
            "Requirement already satisfied: urllib3!=1.25.0,!=1.25.1,<1.26,>=1.21.1 in /usr/local/lib/python3.6/dist-packages (from requests->chart_studio) (1.24.3)\n"
          ],
          "name": "stdout"
        }
      ]
    },
    {
      "cell_type": "markdown",
      "metadata": {
        "id": "XDCpsdMOwi9F",
        "colab_type": "text"
      },
      "source": [
        "# **Imports**"
      ]
    },
    {
      "cell_type": "code",
      "metadata": {
        "id": "m-1cQwNlyMdE",
        "colab_type": "code",
        "colab": {}
      },
      "source": [
        "from numpy import array\n",
        "from keras.models import Sequential\n",
        "from keras.layers import Dense\n",
        "from keras.layers import LSTM\n",
        "from keras.preprocessing.sequence import TimeseriesGenerator\n",
        "\n",
        "import chart_studio.plotly as py\n",
        "import plotly.offline as pyoff\n",
        "import plotly.graph_objs as go\n",
        "\n",
        "import numpy as np\n",
        "import pandas as pd"
      ],
      "execution_count": 0,
      "outputs": []
    },
    {
      "cell_type": "markdown",
      "metadata": {
        "id": "WDWim_2fw0ir",
        "colab_type": "text"
      },
      "source": [
        "# **Functions**"
      ]
    },
    {
      "cell_type": "markdown",
      "metadata": {
        "id": "Kmf-2tKJxPDN",
        "colab_type": "text"
      },
      "source": [
        "**Period to date**"
      ]
    },
    {
      "cell_type": "code",
      "metadata": {
        "id": "6A6gCuQ_yqad",
        "colab_type": "code",
        "colab": {}
      },
      "source": [
        "def periode_to_date(x):\n",
        "  return x[:4]+'-'+x[4:6]+'-01'"
      ],
      "execution_count": 0,
      "outputs": []
    },
    {
      "cell_type": "markdown",
      "metadata": {
        "id": "UzLYBjGLyrsH",
        "colab_type": "text"
      },
      "source": [
        "**Predict Sale**"
      ]
    },
    {
      "cell_type": "code",
      "metadata": {
        "id": "s-0zT1_Yy0rz",
        "colab_type": "code",
        "colab": {}
      },
      "source": [
        "def pred_sales(x, model):\n",
        "  x1 = x['prev_sales']\n",
        "  x2 = x['SUM_VENTE']\n",
        "  x_input = array([x1, x2]).reshape((1, n_input, n_features))\n",
        "  return model.predict(x_input, verbose=0)[0][0]"
      ],
      "execution_count": 0,
      "outputs": []
    },
    {
      "cell_type": "markdown",
      "metadata": {
        "id": "vee4lj98xYfp",
        "colab_type": "text"
      },
      "source": [
        "**Read data**"
      ]
    },
    {
      "cell_type": "code",
      "metadata": {
        "id": "aW3VRd4lzTaR",
        "colab_type": "code",
        "colab": {}
      },
      "source": [
        "def read_data(filename, entite, offre, periode_limite):\n",
        "\n",
        "  df_sales = pd.read_csv(filename, sep=';') #'VENTES_SBD.csv'\n",
        "  df_sales['date'] = pd.to_datetime(df_sales['PERIODE'].apply(lambda x : periode_to_date(str(x))))\n",
        "\n",
        "  #represent month in date field as its first day\n",
        "  df_sales['date'] = df_sales['date'].dt.year.astype('str') + '-' + df_sales['date'].dt.month.astype('str') + '-01'\n",
        "  df_sales['date'] = pd.to_datetime(df_sales['date'])\n",
        "\n",
        "  df = df_sales\n",
        "  df_sales = df_sales[(df_sales['LIBELLE_OFFRE']==offre)]\n",
        "  df_sales = df_sales[(df_sales['ENTITE']==entite)]\n",
        "  df_sales = df_sales[(df_sales['PERIODE'] <= periode_limite)]\n",
        "\n",
        "  #create a new dataframe to model the difference\n",
        "  df_diff = df_sales.copy()\n",
        "  #add previous sales to the next row\n",
        "  df_diff['prev_sales'] = df_diff['SUM_VENTE'].shift(1)\n",
        "  #drop the null values and calculate the difference\n",
        "  df_diff = df_diff.dropna()\n",
        "\n",
        "  return df_diff"
      ],
      "execution_count": 0,
      "outputs": []
    },
    {
      "cell_type": "code",
      "metadata": {
        "id": "Jrbr4e9m69Z9",
        "colab_type": "code",
        "colab": {}
      },
      "source": [
        "def create_generator(df_diff, val_rate):\n",
        "  \n",
        "  n_input = 2\n",
        "  n_features = 1\n",
        "  val_limit = int(len(df_diff.index)*val_rate)\n",
        "\n",
        "  series = array(df_diff['SUM_VENTE'][:val_limit])\n",
        "  series = series.reshape((len(series), n_features))\n",
        "\n",
        "  series_val = array(df_diff['SUM_VENTE'][val_limit:])\n",
        "  series_val = series_val.reshape((len(series_val), n_features)) \n",
        "    \n",
        "  # define generator\n",
        "  generator = TimeseriesGenerator(series, series, length=n_input, batch_size=6)\n",
        "  val_generator = TimeseriesGenerator(series_val, series_val, length=n_input, batch_size=6)\n",
        "\n",
        "  return generator, val_generator"
      ],
      "execution_count": 0,
      "outputs": []
    },
    {
      "cell_type": "markdown",
      "metadata": {
        "id": "wH_w-yOhxiQG",
        "colab_type": "text"
      },
      "source": [
        "**Create model**"
      ]
    },
    {
      "cell_type": "code",
      "metadata": {
        "id": "GSGXcchI_xtV",
        "colab_type": "code",
        "colab": {}
      },
      "source": [
        "def create_model():\n",
        "\n",
        "  n_input = 2\n",
        "  n_features = 1\n",
        "\n",
        "  # define model\n",
        "  model = Sequential()\n",
        "  model.add(LSTM(100, activation='relu', input_shape=(n_input, n_features)))\n",
        "  model.add(Dense(1))\n",
        "  model.compile(optimizer='adam', loss='mse')\n",
        "  \n",
        "  return model"
      ],
      "execution_count": 0,
      "outputs": []
    },
    {
      "cell_type": "markdown",
      "metadata": {
        "id": "HMp0mAsY0pII",
        "colab_type": "text"
      },
      "source": [
        "**Plot**"
      ]
    },
    {
      "cell_type": "code",
      "metadata": {
        "id": "2PB9BS0c0wZ8",
        "colab_type": "code",
        "colab": {}
      },
      "source": [
        "def get_fig(df_diff):\n",
        "  fig = go.Figure(data=[\n",
        "                      go.Scatter(x=df_diff['date'], y=df_diff['SUM_VENTE'], name='actual'), \n",
        "                      go.Scatter(x=df_diff['date'], y=df_diff['pred'], name='predicted')\n",
        "                      ],\n",
        "    layout=go.Layout(title='Montly Sales forecasting')\n",
        "    )\n",
        "  return fig"
      ],
      "execution_count": 0,
      "outputs": []
    },
    {
      "cell_type": "markdown",
      "metadata": {
        "id": "yozYgcKNw8dF",
        "colab_type": "text"
      },
      "source": [
        "# **Experiments**"
      ]
    },
    {
      "cell_type": "code",
      "metadata": {
        "id": "UPLihZ8HwJka",
        "colab_type": "code",
        "colab": {}
      },
      "source": [
        "data = read_data('VENTES_SBD.csv', 'SBD', 'DATA MOBILE', 202003)"
      ],
      "execution_count": 0,
      "outputs": []
    },
    {
      "cell_type": "code",
      "metadata": {
        "id": "J3GyhnYANz6f",
        "colab_type": "code",
        "colab": {
          "base_uri": "https://localhost:8080/",
          "height": 204
        },
        "outputId": "4782acbc-1b4d-4bb9-b6c8-59165e88bd86"
      },
      "source": [
        "data.head()"
      ],
      "execution_count": 20,
      "outputs": [
        {
          "output_type": "execute_result",
          "data": {
            "text/html": [
              "<div>\n",
              "<style scoped>\n",
              "    .dataframe tbody tr th:only-of-type {\n",
              "        vertical-align: middle;\n",
              "    }\n",
              "\n",
              "    .dataframe tbody tr th {\n",
              "        vertical-align: top;\n",
              "    }\n",
              "\n",
              "    .dataframe thead th {\n",
              "        text-align: right;\n",
              "    }\n",
              "</style>\n",
              "<table border=\"1\" class=\"dataframe\">\n",
              "  <thead>\n",
              "    <tr style=\"text-align: right;\">\n",
              "      <th></th>\n",
              "      <th>ENTITE</th>\n",
              "      <th>ANNEE</th>\n",
              "      <th>PERIODE</th>\n",
              "      <th>LIBELLE_OFFRE</th>\n",
              "      <th>VENTE_MOIS</th>\n",
              "      <th>SUM_VENTE</th>\n",
              "      <th>date</th>\n",
              "      <th>prev_sales</th>\n",
              "    </tr>\n",
              "  </thead>\n",
              "  <tbody>\n",
              "    <tr>\n",
              "      <th>1</th>\n",
              "      <td>SBD</td>\n",
              "      <td>2017</td>\n",
              "      <td>201702</td>\n",
              "      <td>DATA MOBILE</td>\n",
              "      <td>503.0</td>\n",
              "      <td>769.0</td>\n",
              "      <td>2017-02-01</td>\n",
              "      <td>266.0</td>\n",
              "    </tr>\n",
              "    <tr>\n",
              "      <th>2</th>\n",
              "      <td>SBD</td>\n",
              "      <td>2017</td>\n",
              "      <td>201703</td>\n",
              "      <td>DATA MOBILE</td>\n",
              "      <td>805.0</td>\n",
              "      <td>1574.0</td>\n",
              "      <td>2017-03-01</td>\n",
              "      <td>769.0</td>\n",
              "    </tr>\n",
              "    <tr>\n",
              "      <th>3</th>\n",
              "      <td>SBD</td>\n",
              "      <td>2017</td>\n",
              "      <td>201704</td>\n",
              "      <td>DATA MOBILE</td>\n",
              "      <td>286.0</td>\n",
              "      <td>1860.0</td>\n",
              "      <td>2017-04-01</td>\n",
              "      <td>1574.0</td>\n",
              "    </tr>\n",
              "    <tr>\n",
              "      <th>4</th>\n",
              "      <td>SBD</td>\n",
              "      <td>2017</td>\n",
              "      <td>201705</td>\n",
              "      <td>DATA MOBILE</td>\n",
              "      <td>648.0</td>\n",
              "      <td>2508.0</td>\n",
              "      <td>2017-05-01</td>\n",
              "      <td>1860.0</td>\n",
              "    </tr>\n",
              "    <tr>\n",
              "      <th>5</th>\n",
              "      <td>SBD</td>\n",
              "      <td>2017</td>\n",
              "      <td>201706</td>\n",
              "      <td>DATA MOBILE</td>\n",
              "      <td>253.0</td>\n",
              "      <td>2761.0</td>\n",
              "      <td>2017-06-01</td>\n",
              "      <td>2508.0</td>\n",
              "    </tr>\n",
              "  </tbody>\n",
              "</table>\n",
              "</div>"
            ],
            "text/plain": [
              "  ENTITE  ANNEE  PERIODE  ... SUM_VENTE       date  prev_sales\n",
              "1    SBD   2017   201702  ...     769.0 2017-02-01       266.0\n",
              "2    SBD   2017   201703  ...    1574.0 2017-03-01       769.0\n",
              "3    SBD   2017   201704  ...    1860.0 2017-04-01      1574.0\n",
              "4    SBD   2017   201705  ...    2508.0 2017-05-01      1860.0\n",
              "5    SBD   2017   201706  ...    2761.0 2017-06-01      2508.0\n",
              "\n",
              "[5 rows x 8 columns]"
            ]
          },
          "metadata": {
            "tags": []
          },
          "execution_count": 20
        }
      ]
    },
    {
      "cell_type": "code",
      "metadata": {
        "id": "c5s2IQicaX1z",
        "colab_type": "code",
        "colab": {}
      },
      "source": [
        "gen, gen_val = create_generator(data, 0.3)"
      ],
      "execution_count": 0,
      "outputs": []
    },
    {
      "cell_type": "code",
      "metadata": {
        "id": "lT_osHcWat9m",
        "colab_type": "code",
        "colab": {}
      },
      "source": [
        ""
      ],
      "execution_count": 0,
      "outputs": []
    }
  ]
}