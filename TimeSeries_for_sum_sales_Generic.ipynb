{
  "nbformat": 4,
  "nbformat_minor": 0,
  "metadata": {
    "colab": {
      "name": "TimeSeries_for_sum_sales-Generic.ipynb",
      "provenance": [],
      "authorship_tag": "ABX9TyPm/4d+0Tmm4kkfAPbteUWW",
      "include_colab_link": true
    },
    "kernelspec": {
      "name": "python3",
      "display_name": "Python 3"
    }
  },
  "cells": [
    {
      "cell_type": "markdown",
      "metadata": {
        "id": "view-in-github",
        "colab_type": "text"
      },
      "source": [
        "<a href=\"https://colab.research.google.com/github/Yasmiiiiine/12-Month-Forecast-With-LSTM/blob/master/TimeSeries_for_sum_sales_Generic.ipynb\" target=\"_parent\"><img src=\"https://colab.research.google.com/assets/colab-badge.svg\" alt=\"Open In Colab\"/></a>"
      ]
    },
    {
      "cell_type": "markdown",
      "metadata": {
        "id": "z4dBpmIuwuZv",
        "colab_type": "text"
      },
      "source": [
        "# **Install**"
      ]
    },
    {
      "cell_type": "code",
      "metadata": {
        "id": "N7mtDRbnykCT",
        "colab_type": "code",
        "colab": {}
      },
      "source": [
        "!pip install chart_studio"
      ],
      "execution_count": 0,
      "outputs": []
    },
    {
      "cell_type": "markdown",
      "metadata": {
        "id": "XDCpsdMOwi9F",
        "colab_type": "text"
      },
      "source": [
        "# **Imports**"
      ]
    },
    {
      "cell_type": "code",
      "metadata": {
        "id": "m-1cQwNlyMdE",
        "colab_type": "code",
        "colab": {}
      },
      "source": [
        "from numpy import array\n",
        "from keras.models import Sequential\n",
        "from keras.layers import Dense\n",
        "from keras.layers import LSTM\n",
        "from keras.preprocessing.sequence import TimeseriesGenerator\n",
        "\n",
        "import chart_studio.plotly as py\n",
        "import plotly.offline as pyoff\n",
        "import plotly.graph_objs as go\n",
        "\n",
        "import numpy as np\n",
        "import pandas as pd"
      ],
      "execution_count": 0,
      "outputs": []
    },
    {
      "cell_type": "markdown",
      "metadata": {
        "id": "WDWim_2fw0ir",
        "colab_type": "text"
      },
      "source": [
        "# **Functions**"
      ]
    },
    {
      "cell_type": "markdown",
      "metadata": {
        "id": "Kmf-2tKJxPDN",
        "colab_type": "text"
      },
      "source": [
        "**Period to date**"
      ]
    },
    {
      "cell_type": "code",
      "metadata": {
        "id": "6A6gCuQ_yqad",
        "colab_type": "code",
        "colab": {}
      },
      "source": [
        "def periode_to_date(x):\n",
        "  return x[:4]+'-'+x[4:6]+'-01'"
      ],
      "execution_count": 0,
      "outputs": []
    },
    {
      "cell_type": "markdown",
      "metadata": {
        "id": "UzLYBjGLyrsH",
        "colab_type": "text"
      },
      "source": [
        "**Predict Sale**"
      ]
    },
    {
      "cell_type": "code",
      "metadata": {
        "id": "s-0zT1_Yy0rz",
        "colab_type": "code",
        "colab": {}
      },
      "source": [
        "def pred_sales(x, model):\n",
        "  x1 = x['prev_sales']\n",
        "  x2 = x['SUM_VENTE']\n",
        "  x_input = array([x1, x2]).reshape((1, n_input, n_features))\n",
        "  return model.predict(x_input, verbose=0)[0][0]"
      ],
      "execution_count": 0,
      "outputs": []
    },
    {
      "cell_type": "markdown",
      "metadata": {
        "id": "vee4lj98xYfp",
        "colab_type": "text"
      },
      "source": [
        "**Read data**"
      ]
    },
    {
      "cell_type": "code",
      "metadata": {
        "id": "aW3VRd4lzTaR",
        "colab_type": "code",
        "colab": {}
      },
      "source": [
        "def read_data(filename, entite, offre, periode_limite):\n",
        "\n",
        "  df_sales = pd.read_csv(filename, sep=';') #'VENTES_SBD.csv'\n",
        "  df_sales['date'] = pd.to_datetime(df_sales['PERIODE'].apply(lambda x : periode_to_date(str(x))))\n",
        "\n",
        "  #represent month in date field as its first day\n",
        "  df_sales['date'] = df_sales['date'].dt.year.astype('str') + '-' + df_sales['date'].dt.month.astype('str') + '-01'\n",
        "  df_sales['date'] = pd.to_datetime(df_sales['date'])\n",
        "\n",
        "  df = df_sales\n",
        "  df_sales = df_sales[(df_sales['LIBELLE_OFFRE']==offre)]\n",
        "  df_sales = df_sales[(df_sales['ENTITE']==entite)]\n",
        "  df_sales = df_sales[(df_sales['PERIODE'] =< periode_limite)]\n",
        "\n",
        "  \n",
        "  return series, series_val"
      ],
      "execution_count": 0,
      "outputs": []
    },
    {
      "cell_type": "markdown",
      "metadata": {
        "id": "wH_w-yOhxiQG",
        "colab_type": "text"
      },
      "source": [
        "**Create model**"
      ]
    },
    {
      "cell_type": "markdown",
      "metadata": {
        "id": "HMp0mAsY0pII",
        "colab_type": "text"
      },
      "source": [
        "**Plot**"
      ]
    },
    {
      "cell_type": "code",
      "metadata": {
        "id": "2PB9BS0c0wZ8",
        "colab_type": "code",
        "colab": {}
      },
      "source": [
        "def get_fig(df_diff):\n",
        "  fig = go.Figure(data=[\n",
        "                      go.Scatter(x=df_diff['date'], y=df_diff['SUM_VENTE'], name='actual'), \n",
        "                      go.Scatter(x=df_diff['date'], y=df_diff['pred'], name='predicted')\n",
        "                      ],\n",
        "    layout=go.Layout(title='Montly Sales forecasting')\n",
        "    )\n",
        "  return fig"
      ],
      "execution_count": 0,
      "outputs": []
    },
    {
      "cell_type": "markdown",
      "metadata": {
        "id": "yozYgcKNw8dF",
        "colab_type": "text"
      },
      "source": [
        "# **Experiments**"
      ]
    },
    {
      "cell_type": "code",
      "metadata": {
        "id": "UPLihZ8HwJka",
        "colab_type": "code",
        "colab": {}
      },
      "source": [
        ""
      ],
      "execution_count": 0,
      "outputs": []
    }
  ]
}